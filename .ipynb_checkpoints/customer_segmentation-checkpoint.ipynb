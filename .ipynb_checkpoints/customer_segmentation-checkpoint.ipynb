{
 "cells": [
  {
   "cell_type": "code",
   "execution_count": 1,
   "metadata": {},
   "outputs": [],
   "source": [
    "from pyspark import SparkContext\n",
    "from pyspark.sql import SQLContext"
   ]
  },
  {
   "cell_type": "code",
   "execution_count": 2,
   "metadata": {},
   "outputs": [],
   "source": [
    "sc = SparkContext()\n",
    "sqlContext = SQLContext(sc)"
   ]
  },
  {
   "cell_type": "code",
   "execution_count": 3,
   "metadata": {},
   "outputs": [],
   "source": [
    "df = sqlContext.read.csv('d_small_ecommerce-data.csv', header=True)"
   ]
  },
  {
   "cell_type": "code",
   "execution_count": 4,
   "metadata": {},
   "outputs": [
    {
     "name": "stdout",
     "output_type": "stream",
     "text": [
      "+---------+---------+--------------------+--------+-------------------+---------+----------+--------------+\n",
      "|InvoiceNo|StockCode|         Description|Quantity|        InvoiceDate|UnitPrice|CustomerID|       Country|\n",
      "+---------+---------+--------------------+--------+-------------------+---------+----------+--------------+\n",
      "|   536365|   85123A|WHITE HANGING HEA...|       6|2010-12-01 08:26:00|     2.55|   17850.0|United Kingdom|\n",
      "|   536365|    71053| WHITE METAL LANTERN|       6|2010-12-01 08:26:00|     3.39|   17850.0|United Kingdom|\n",
      "|   536365|   84406B|CREAM CUPID HEART...|       8|2010-12-01 08:26:00|     2.75|   17850.0|United Kingdom|\n",
      "|   536365|   84029G|KNITTED UNION FLA...|       6|2010-12-01 08:26:00|     3.39|   17850.0|United Kingdom|\n",
      "|   536365|   84029E|RED WOOLLY HOTTIE...|       6|2010-12-01 08:26:00|     3.39|   17850.0|United Kingdom|\n",
      "|   539725|    22988|   SOLDIERS EGG CUP |       6|2010-12-21 13:58:00|     1.25|   17211.0|United Kingdom|\n",
      "|   539725|    84947|ANTIQUE SILVER TE...|       6|2010-12-21 13:58:00|     1.25|   17211.0|United Kingdom|\n",
      "|   539725|    22154|ANGEL DECORATION ...|      12|2010-12-21 13:58:00|     0.42|   17211.0|United Kingdom|\n",
      "|   539725|    21818|GLITTER CHRISTMAS...|      12|2010-12-21 13:58:00|     0.85|   17211.0|United Kingdom|\n",
      "|   539725|    48138|  DOORMAT UNION FLAG|       1|2010-12-21 13:58:00|     7.95|   17211.0|United Kingdom|\n",
      "|   539725|    48187| DOORMAT NEW ENGLAND|       1|2010-12-21 13:58:00|     7.95|   17211.0|United Kingdom|\n",
      "|   539725|    48188|DOORMAT WELCOME P...|       1|2010-12-21 13:58:00|     7.95|   17211.0|United Kingdom|\n",
      "|  C539726|    22791|T-LIGHT GLASS FLU...|     -10|2010-12-21 14:24:00|     1.25|   17007.0|United Kingdom|\n",
      "|   539727|    22933|BAKING MOULD EAST...|       6|2010-12-21 14:26:00|     2.95|   12678.0|        France|\n",
      "|   539727|    22934|BAKING MOULD EAST...|       6|2010-12-21 14:26:00|     2.95|   12678.0|        France|\n",
      "|   539727|    22558|CLOTHES PEGS RETR...|      12|2010-12-21 14:26:00|     1.49|   12678.0|        France|\n",
      "|   539727|     POST|             POSTAGE|       1|2010-12-21 14:26:00|     18.0|   12678.0|        France|\n",
      "|   539728|    22693|GROW A FLYTRAP OR...|      24|2010-12-21 14:26:00|     1.25|   16270.0|United Kingdom|\n",
      "|   539728|    22444|GROW YOUR OWN PLA...|      24|2010-12-21 14:26:00|     1.25|   16270.0|United Kingdom|\n",
      "|   539728|    21917|SET 12 KIDS  WHIT...|      24|2010-12-21 14:26:00|     0.42|   16270.0|United Kingdom|\n",
      "+---------+---------+--------------------+--------+-------------------+---------+----------+--------------+\n",
      "only showing top 20 rows\n",
      "\n"
     ]
    }
   ],
   "source": [
    "df.show()"
   ]
  },
  {
   "cell_type": "code",
   "execution_count": null,
   "metadata": {},
   "outputs": [],
   "source": []
  }
 ],
 "metadata": {
  "kernelspec": {
   "display_name": "Python 3",
   "language": "python",
   "name": "python3"
  },
  "language_info": {
   "codemirror_mode": {
    "name": "ipython",
    "version": 3
   },
   "file_extension": ".py",
   "mimetype": "text/x-python",
   "name": "python",
   "nbconvert_exporter": "python",
   "pygments_lexer": "ipython3",
   "version": "3.8.6"
  }
 },
 "nbformat": 4,
 "nbformat_minor": 4
}
