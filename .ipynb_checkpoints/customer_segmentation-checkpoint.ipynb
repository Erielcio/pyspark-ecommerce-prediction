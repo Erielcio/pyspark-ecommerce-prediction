{
 "cells": [
  {
   "cell_type": "code",
   "execution_count": 1,
   "metadata": {
    "scrolled": true
   },
   "outputs": [],
   "source": [
    "from pyspark import SparkContext\n",
    "from pyspark.sql import SQLContext"
   ]
  },
  {
   "cell_type": "code",
   "execution_count": 2,
   "metadata": {},
   "outputs": [],
   "source": [
    "sc = SparkContext()\n",
    "sqlContext = SQLContext(sc)"
   ]
  },
  {
   "cell_type": "code",
   "execution_count": 3,
   "metadata": {},
   "outputs": [],
   "source": [
    "df = sqlContext.read.csv('d_small_ecommerce-data.csv', header=True)"
   ]
  },
  {
   "cell_type": "code",
   "execution_count": 4,
   "metadata": {},
   "outputs": [],
   "source": [
    "#df.show()"
   ]
  },
  {
   "cell_type": "code",
   "execution_count": 5,
   "metadata": {},
   "outputs": [],
   "source": [
    "import datetime as dt\n",
    "from pyspark.sql.functions import *\n",
    "\n",
    "now = to_date(lit(dt.date(2011,12,9)))\n",
    "\n",
    "df = df.withColumn('Date', to_date(df['InvoiceDate']))\n",
    "\n",
    "recency_df = df.groupby('CustomerID').agg(max('Date').alias('LastPurchaseDate'))\n",
    "recency_df = recency_df.withColumn(\"Recency\", datediff(now, to_date(recency_df['LastPurchaseDate'])))\n",
    "recency_df = recency_df.select(['CustomerID', 'Recency'])\n",
    "#recency_df.show()"
   ]
  },
  {
   "cell_type": "code",
   "execution_count": 6,
   "metadata": {},
   "outputs": [],
   "source": [
    "frequency_df = df.drop_duplicates(['CustomerID', 'InvoiceNo'])\n",
    "frequency_df = frequency_df.groupby('CustomerID').agg(count('InvoiceNo').alias('Frequency'))\n",
    "#frequency_df.show()"
   ]
  },
  {
   "cell_type": "code",
   "execution_count": 7,
   "metadata": {},
   "outputs": [],
   "source": [
    "df = df.withColumn(\"Quantity\", df[\"Quantity\"].cast('int'))\n",
    "df = df.withColumn(\"UnitPrice\", df[\"UnitPrice\"].cast('float'))\n",
    "\n",
    "df = df.filter((df['Quantity'] > 0) & (df['UnitPrice'] > 0) & (df['UnitPrice'] < 15))\n",
    "\n",
    "df = df.withColumn('TotalPrice', df['Quantity'] * df['UnitPrice'])\n",
    "df = df.filter(df['TotalPrice'] < 25000)\n",
    "\n",
    "monetary_df = df.groupby('CustomerID').agg(sum('TotalPrice').alias('Monetary'))\n",
    "#monetary_df.show()"
   ]
  },
  {
   "cell_type": "code",
   "execution_count": 8,
   "metadata": {},
   "outputs": [
    {
     "name": "stdout",
     "output_type": "stream",
     "text": [
      "+----------+-------+---------+------------------+\n",
      "|CustomerID|Recency|Frequency|          Monetary|\n",
      "+----------+-------+---------+------------------+\n",
      "|   17850.0|    373|        1| 98.31999969482422|\n",
      "|   16270.0|    353|        1|100.05999946594238|\n",
      "|   17211.0|    353|        1| 54.09000015258789|\n",
      "|   12680.0|      0|        1| 141.4500026702881|\n",
      "|   12678.0|    353|        1| 53.28000259399414|\n",
      "+----------+-------+---------+------------------+\n",
      "\n"
     ]
    }
   ],
   "source": [
    "rfm = recency_df.join(frequency_df, on=['CustomerID'], how='inner')\n",
    "rfm = rfm.join(monetary_df, on=['CustomerID'], how='inner')\n",
    "rfm.show()"
   ]
  },
  {
   "cell_type": "code",
   "execution_count": 9,
   "metadata": {},
   "outputs": [
    {
     "name": "stdout",
     "output_type": "stream",
     "text": [
      "+-------+--------------------+\n",
      "|     id|            features|\n",
      "+-------+--------------------+\n",
      "|17850.0|[373.0,1.0,98.319...|\n",
      "|16270.0|[353.0,1.0,100.05...|\n",
      "|17211.0|[353.0,1.0,54.090...|\n",
      "|12680.0|[0.0,1.0,141.4500...|\n",
      "|12678.0|[353.0,1.0,53.280...|\n",
      "+-------+--------------------+\n",
      "\n"
     ]
    }
   ],
   "source": [
    "from pyspark.ml.feature import VectorAssembler\n",
    "\n",
    "assembler = VectorAssembler(\n",
    "    inputCols=['Recency', 'Frequency', 'Monetary'],\n",
    "    outputCol=\"features\")\n",
    "\n",
    "rfm = rfm.withColumnRenamed('CustomerID', 'id')\n",
    "\n",
    "rfm_final = assembler.transform(rfm).select('id', 'features')\n",
    "rfm_final.show()"
   ]
  },
  {
   "cell_type": "code",
   "execution_count": 10,
   "metadata": {},
   "outputs": [
    {
     "data": {
      "image/png": "[encoded data removed]",
      "text/plain": [
       "<Figure size 720x360 with 1 Axes>"
      ]
     },
     "metadata": {
      "needs_background": "light"
     },
     "output_type": "display_data"
    }
   ],
   "source": [
    "from pyspark.ml.clustering import KMeans\n",
    "from pyspark.ml.evaluation import ClusteringEvaluator\n",
    "import matplotlib.pyplot as plt\n",
    "import numpy as np\n",
    "import pandas as pd\n",
    "\n",
    "n_clusters = 5\n",
    "cost = np.zeros(n_clusters)\n",
    "silh_val = []\n",
    "silh_lst = []\n",
    "\n",
    "for k in range(2, n_clusters):\n",
    "    kmeans = KMeans().setK(k).setSeed(1).setFeaturesCol(\"features\")\n",
    "    model = kmeans.fit(rfm_final)# rfm_final.sample(False,0.1, seed=42)\n",
    "    cost[k] = model.summary.trainingCost\n",
    "    \n",
    "    predictions = model.transform(rfm_final)\n",
    "    evaluator = ClusteringEvaluator()\n",
    "    silhouette = evaluator.evaluate(predictions)\n",
    "    silh_val.append(silhouette)\n",
    "\n",
    "df_cost = pd.DataFrame(cost)\n",
    "df_cost.columns = ['cost']\n",
    "k_lst = np.arange(n_clusters)\n",
    "df_cost.insert(0, 'cluster', k_lst)\n",
    "\n",
    "silh_array = np.asanyarray(silh_val)\n",
    "silhouette = pd.DataFrame(list(zip(k_lst[2:],silh_array)),columns = ['k clusters', 'silhouette'])\n",
    "\n",
    "plt.figure(figsize=(10,5))\n",
    "plt.plot(df_cost.cluster, df_cost.cost)\n",
    "plt.xlabel('K - Number of Clusters')\n",
    "plt.ylabel('Silhouette Score')\n",
    "plt.title('Elbow Curve')\n",
    "\n",
    "plt.show()"
   ]
  },
  {
   "cell_type": "code",
   "execution_count": 11,
   "metadata": {},
   "outputs": [
    {
     "data": {
      "text/html": [
       "<div>\n",
       "<style scoped>\n",
       "    .dataframe tbody tr th:only-of-type {\n",
       "        vertical-align: middle;\n",
       "    }\n",
       "\n",
       "    .dataframe tbody tr th {\n",
       "        vertical-align: top;\n",
       "    }\n",
       "\n",
       "    .dataframe thead th {\n",
       "        text-align: right;\n",
       "    }\n",
       "</style>\n",
       "<table border=\"1\" class=\"dataframe\">\n",
       "  <thead>\n",
       "    <tr style=\"text-align: right;\">\n",
       "      <th></th>\n",
       "      <th>k clusters</th>\n",
       "      <th>silhouette</th>\n",
       "    </tr>\n",
       "  </thead>\n",
       "  <tbody>\n",
       "    <tr>\n",
       "      <th>0</th>\n",
       "      <td>2</td>\n",
       "      <td>0.790485</td>\n",
       "    </tr>\n",
       "    <tr>\n",
       "      <th>1</th>\n",
       "      <td>3</td>\n",
       "      <td>0.728716</td>\n",
       "    </tr>\n",
       "    <tr>\n",
       "      <th>2</th>\n",
       "      <td>4</td>\n",
       "      <td>0.399878</td>\n",
       "    </tr>\n",
       "  </tbody>\n",
       "</table>\n",
       "</div>"
      ],
      "text/plain": [
       "   k clusters  silhouette\n",
       "0           2    0.790485\n",
       "1           3    0.728716\n",
       "2           4    0.399878"
      ]
     },
     "execution_count": 11,
     "metadata": {},
     "output_type": "execute_result"
    }
   ],
   "source": [
    "silhouette"
   ]
  },
  {
   "cell_type": "code",
   "execution_count": 12,
   "metadata": {},
   "outputs": [
    {
     "data": {
      "text/plain": [
       "'\\nkmeans = KMeans().setK(2).setSeed(1).setFeaturesCol(\"features\")\\nmodel = kmeans.fit(rfm_final)\\n\\npredictions = model.transform(rfm_final)\\n\\n# Evaluate clustering by computing Silhouette score\\nevaluator = ClusteringEvaluator()\\n\\nsilhouette = evaluator.evaluate(predictions)\\nprint(\"Silhouette with squared euclidean distance = \" + str(silhouette))\\n\\ncenters = model.clusterCenters()\\nprint(\"Cluster Centers: \")\\nfor center in centers:\\n    print(center)\\n'"
      ]
     },
     "execution_count": 12,
     "metadata": {},
     "output_type": "execute_result"
    }
   ],
   "source": [
    "\"\"\"\n",
    "kmeans = KMeans().setK(2).setSeed(1).setFeaturesCol(\"features\")\n",
    "model = kmeans.fit(rfm_final)\n",
    "\n",
    "predictions = model.transform(rfm_final)\n",
    "\n",
    "# Evaluate clustering by computing Silhouette score\n",
    "evaluator = ClusteringEvaluator()\n",
    "\n",
    "silhouette = evaluator.evaluate(predictions)\n",
    "print(\"Silhouette with squared euclidean distance = \" + str(silhouette))\n",
    "\n",
    "centers = model.clusterCenters()\n",
    "print(\"Cluster Centers: \")\n",
    "for center in centers:\n",
    "    print(center)\n",
    "\"\"\""
   ]
  },
  {
   "cell_type": "code",
   "execution_count": 13,
   "metadata": {},
   "outputs": [
    {
     "name": "stdout",
     "output_type": "stream",
     "text": [
      "+----------+-------+\n",
      "|CustomerID|Cluster|\n",
      "+----------+-------+\n",
      "|   17850.0|      2|\n",
      "|   16270.0|      3|\n",
      "|   17211.0|      0|\n",
      "|   12680.0|      1|\n",
      "|   12678.0|      0|\n",
      "+----------+-------+\n",
      "\n"
     ]
    }
   ],
   "source": [
    "predictions = predictions.withColumnRenamed('id', 'CustomerID')\n",
    "predictions = predictions.withColumnRenamed('prediction', 'Cluster')\n",
    "predictions = predictions.select(['CustomerID', 'Cluster'])\n",
    "predictions.show()"
   ]
  },
  {
   "cell_type": "code",
   "execution_count": 14,
   "metadata": {},
   "outputs": [],
   "source": [
    "predictions.write.csv('customer_segmentation.csv')"
   ]
  },
  {
   "cell_type": "code",
   "execution_count": null,
   "metadata": {},
   "outputs": [],
   "source": []
  }
 ],
 "metadata": {
  "kernelspec": {
   "display_name": "Python 3",
   "language": "python",
   "name": "python3"
  },
  "language_info": {
   "codemirror_mode": {
    "name": "ipython",
    "version": 3
   },
   "file_extension": ".py",
   "mimetype": "text/x-python",
   "name": "python",
   "nbconvert_exporter": "python",
   "pygments_lexer": "ipython3",
   "version": "3.8.6"
  }
 },
 "nbformat": 4,
 "nbformat_minor": 4
}
