{
 "cells": [
  {
   "cell_type": "code",
   "execution_count": 1,
   "metadata": {
    "scrolled": true
   },
   "outputs": [],
   "source": [
    "from pyspark import SparkContext, SparkConf\n",
    "from pyspark.sql import SQLContext, SparkSession\n",
    "from pyspark.sql.functions import *\n",
    "from pyspark.sql.types import DateType, ArrayType"
   ]
  },
  {
   "cell_type": "code",
   "execution_count": 2,
   "metadata": {},
   "outputs": [],
   "source": [
    "#sc._conf.getAll()"
   ]
  },
  {
   "cell_type": "code",
   "execution_count": 3,
   "metadata": {},
   "outputs": [],
   "source": [
    "config = SparkConf().setAll([\n",
    "    ('spark.executor.cores', '2'), ('spark.executor.memory', '4g'), ('spark.driver.memory','4g'), ('spark.submit.deployMode','client')\n",
    "])\n",
    "sc.stop()\n",
    "sc = SparkContext(conf=config)\n",
    "\n",
    "#sc = SparkContext()\n",
    "spark = SparkSession(sc)\n",
    "sqlContext = SQLContext(sc)"
   ]
  },
  {
   "cell_type": "code",
   "execution_count": 4,
   "metadata": {},
   "outputs": [
    {
     "data": {
      "text/plain": [
       "397884"
      ]
     },
     "execution_count": 4,
     "metadata": {},
     "output_type": "execute_result"
    }
   ],
   "source": [
    "#df = sqlContext.read.csv('gs://kaggle01_test/notebooks/jupyter/pyspark-ecommerce-prediction-main/ecommerce-data100.csv', header=True)\n",
    "df = sqlContext.read.csv('ecommerce-data.csv', header=True)\n",
    "\n",
    "#df = df.drop_duplicates(['CustomerID'])\n",
    "df = df.na.drop()\n",
    "df = df.withColumn(\"CustomerID\", df[\"CustomerID\"].cast('int'))\n",
    "df = df.withColumn(\"Quantity\", df[\"Quantity\"].cast('int'))\n",
    "df = df.withColumn(\"UnitPrice\", df[\"UnitPrice\"].cast('float'))\n",
    "\n",
    "df = df.withColumn(\"Date\", to_date(col(\"InvoiceDate\"),\"MM/dd/yyyy\"))\n",
    "\n",
    "df = df.filter((df['Quantity'] > 0) & (df['UnitPrice'] > 0))\n",
    "\n",
    "df = df.withColumn('TotalPrice', df['Quantity'] * df['UnitPrice'])\n",
    "# & (df['UnitPrice'] < 15)\n",
    "#df = df.filter(df['TotalPrice'] < 25000)\n",
    "\n",
    "df.count()\n",
    "\n",
    "#df.show()\n",
    "#df.show(df.count())"
   ]
  },
  {
   "cell_type": "code",
   "execution_count": 5,
   "metadata": {},
   "outputs": [],
   "source": [
    "import datetime as dt\n",
    "now = to_date(lit(dt.date(2011,12,9)))\n",
    "\n",
    "recency_df = df.groupby('CustomerID').agg(max('Date').alias('LastPurchaseDate'))\n",
    "recency_df = recency_df.withColumn(\"Diff\", datediff(now, to_date(recency_df['LastPurchaseDate'])))\n",
    "recency_df = recency_df.groupby('CustomerID').agg(min('Diff').alias('Recency'))\n",
    "#recency_df.show()\n",
    "\n",
    "#frequency_df = df.drop_duplicates(['CustomerID', 'InvoiceNo'])\n",
    "frequency_df = df.groupby('CustomerID').agg(count('InvoiceNo').alias('Frequency'))\n",
    "#frequency_df.show()\n",
    "\n",
    "monetary_df = df.groupby('CustomerID').agg(sum('TotalPrice').alias('Monetary'))\n",
    "#monetary_df.show()\n",
    "\n",
    "rfm = recency_df.join(frequency_df, on=['CustomerID'], how='inner')\n",
    "rfm = rfm.join(monetary_df, on=['CustomerID'], how='inner')\n",
    "#rfm.show()"
   ]
  },
  {
   "cell_type": "code",
   "execution_count": 6,
   "metadata": {},
   "outputs": [],
   "source": [
    "def get_outliers(rfm, column):\n",
    "    quantiles = rfm.stat.approxQuantile(column, [0.05, 0.95], 0.0)\n",
    "    Q1 = quantiles[0]\n",
    "    Q3 = quantiles[1]\n",
    "    IQR = Q3 - Q1\n",
    "    lowerRange = Q1 - 1.5 * IQR\n",
    "    upperRange = Q3 + 1.5 * IQR\n",
    "    rfm.filter((rfm[column] < lowerRange) | (rfm[column] > upperRange)).show()\n",
    "\n",
    "def remove_outliers(rfm, column):\n",
    "    quantiles = rfm.stat.approxQuantile(column, [0.05, 0.95], 0.0)\n",
    "    Q1 = quantiles[0]\n",
    "    Q3 = quantiles[1]\n",
    "    IQR = Q3 - Q1\n",
    "    lowerRange = Q1 - 1.5 * IQR\n",
    "    upperRange = Q3 + 1.5 * IQR\n",
    "    rfm = rfm.filter((rfm[column] >= lowerRange) | (rfm[column] <= upperRange))\n",
    "\n",
    "#get_outliers(rfm, 'Recency')\n",
    "#get_outliers(rfm, 'Frequency')\n",
    "#get_outliers(rfm, 'Monetary')\n",
    "remove_outliers(rfm, 'Recency')\n",
    "remove_outliers(rfm, 'Frequency')\n",
    "remove_outliers(rfm, 'Monetary')"
   ]
  },
  {
   "cell_type": "code",
   "execution_count": 7,
   "metadata": {},
   "outputs": [],
   "source": [
    "from pyspark.ml.feature import VectorAssembler\n",
    "\n",
    "assembler = VectorAssembler(\n",
    "    inputCols=['Recency', 'Frequency', 'Monetary'],\n",
    "    outputCol=\"features\")\n",
    "\n",
    "rfm_feat = rfm.withColumnRenamed('CustomerID', 'id')\n",
    "\n",
    "rfm_feat = assembler.transform(rfm_feat).select('id', 'features')\n",
    "#rfm_feat.show()"
   ]
  },
  {
   "cell_type": "code",
   "execution_count": 8,
   "metadata": {},
   "outputs": [],
   "source": [
    "from pyspark.ml.feature import StandardScaler\n",
    "\n",
    "scaler = StandardScaler(inputCol=\"features\", outputCol=\"scaledFeatures\")#, withStd=True, withMean=False\n",
    "scalerModel = scaler.fit(rfm_feat)\n",
    "\n",
    "rfm_final = scalerModel.transform(rfm_feat).select('id', 'scaledFeatures')\n",
    "rfm_final = rfm_final.withColumnRenamed('scaledFeatures', 'features')\n",
    "#rfm_final.show()"
   ]
  },
  {
   "cell_type": "code",
   "execution_count": 9,
   "metadata": {},
   "outputs": [],
   "source": [
    "def size_of_partition(map_of_rows):\n",
    "    list_of_rows = list(map_of_rows)\n",
    "    size_of_list = len(list_of_rows)\n",
    "    return [size_of_list]\n",
    "\n",
    "#df.rdd.mapPartitions(size_of_partition).collect()\n",
    "#rfm_final.rdd.getNumPartitions()"
   ]
  },
  {
   "cell_type": "code",
   "execution_count": 10,
   "metadata": {},
   "outputs": [],
   "source": [
    "#reparted_rdd = df.rdd.repartition(20)"
   ]
  },
  {
   "cell_type": "code",
   "execution_count": 11,
   "metadata": {},
   "outputs": [],
   "source": [
    "#reparted_rdd.mapPartitions(size_of_partition).collect()"
   ]
  },
  {
   "cell_type": "code",
   "execution_count": 12,
   "metadata": {},
   "outputs": [],
   "source": [
    "#reparted_rdd.map(lambda x: x).toDF().show(reparted_rdd.count())"
   ]
  },
  {
   "cell_type": "code",
   "execution_count": null,
   "metadata": {},
   "outputs": [],
   "source": [
    "from pyspark.ml.clustering import KMeans\n",
    "from pyspark.ml.evaluation import ClusteringEvaluator\n",
    "import matplotlib.pyplot as plt\n",
    "import numpy as np\n",
    "import pandas as pd\n",
    "\n",
    "n_clusters = 10\n",
    "cost = np.zeros(n_clusters)\n",
    "silh_val = []\n",
    "silh_lst = []\n",
    "\n",
    "for k in range(2, n_clusters):\n",
    "    kmeans = KMeans().setK(k).setSeed(1).setMaxIter(50).setFeaturesCol(\"features\")\n",
    "    model = kmeans.fit(rfm_final)# rfm_final.sample(False,0.1, seed=42)\n",
    "    \n",
    "    # elbow method\n",
    "    cost[k] = model.summary.trainingCost\n",
    "        \n",
    "    predictions = model.transform(rfm_final)\n",
    "    evaluator = ClusteringEvaluator()\n",
    "    silhouette = evaluator.evaluate(predictions)\n",
    "    silh_val.append(silhouette)\n"
   ]
  },
  {
   "cell_type": "code",
   "execution_count": null,
   "metadata": {},
   "outputs": [
    {
     "data": {
      "image/png": "[encoded data removed]",
      "text/plain": [
       "<Figure size 720x360 with 1 Axes>"
      ]
     },
     "metadata": {
      "needs_background": "light"
     },
     "output_type": "display_data"
    }
   ],
   "source": [
    "import numpy as np\n",
    "import matplotlib.mlab as mlab\n",
    "import matplotlib.pyplot as plt\n",
    "import seaborn as sbs\n",
    "from matplotlib.ticker import MaxNLocator\n",
    "\n",
    "fig, ax = plt.subplots(1,1, figsize =(10,5))\n",
    "ax.plot(range(2, n_clusters),cost[2:n_clusters])\n",
    "plt.xlabel('K - Clusters')\n",
    "plt.ylabel('Cost')\n",
    "plt.title('Elbow Curve')\n",
    "ax.xaxis.set_major_locator(MaxNLocator(integer=True))\n",
    "plt.show()"
   ]
  },
  {
   "cell_type": "code",
   "execution_count": null,
   "metadata": {},
   "outputs": [
    {
     "data": {
      "text/html": [
       "<div>\n",
       "<style scoped>\n",
       "    .dataframe tbody tr th:only-of-type {\n",
       "        vertical-align: middle;\n",
       "    }\n",
       "\n",
       "    .dataframe tbody tr th {\n",
       "        vertical-align: top;\n",
       "    }\n",
       "\n",
       "    .dataframe thead th {\n",
       "        text-align: right;\n",
       "    }\n",
       "</style>\n",
       "<table border=\"1\" class=\"dataframe\">\n",
       "  <thead>\n",
       "    <tr style=\"text-align: right;\">\n",
       "      <th></th>\n",
       "      <th>K - Clusters</th>\n",
       "      <th>silhouette</th>\n",
       "    </tr>\n",
       "  </thead>\n",
       "  <tbody>\n",
       "    <tr>\n",
       "      <th>0</th>\n",
       "      <td>2</td>\n",
       "      <td>0.466284</td>\n",
       "    </tr>\n",
       "    <tr>\n",
       "      <th>1</th>\n",
       "      <td>3</td>\n",
       "      <td>0.742901</td>\n",
       "    </tr>\n",
       "    <tr>\n",
       "      <th>2</th>\n",
       "      <td>4</td>\n",
       "      <td>0.740786</td>\n",
       "    </tr>\n",
       "    <tr>\n",
       "      <th>3</th>\n",
       "      <td>5</td>\n",
       "      <td>0.772852</td>\n",
       "    </tr>\n",
       "    <tr>\n",
       "      <th>4</th>\n",
       "      <td>6</td>\n",
       "      <td>0.760554</td>\n",
       "    </tr>\n",
       "    <tr>\n",
       "      <th>5</th>\n",
       "      <td>7</td>\n",
       "      <td>0.758797</td>\n",
       "    </tr>\n",
       "    <tr>\n",
       "      <th>6</th>\n",
       "      <td>8</td>\n",
       "      <td>0.695908</td>\n",
       "    </tr>\n",
       "    <tr>\n",
       "      <th>7</th>\n",
       "      <td>9</td>\n",
       "      <td>0.656742</td>\n",
       "    </tr>\n",
       "  </tbody>\n",
       "</table>\n",
       "</div>"
      ],
      "text/plain": [
       "   K - Clusters  silhouette\n",
       "0             2    0.466284\n",
       "1             3    0.742901\n",
       "2             4    0.740786\n",
       "3             5    0.772852\n",
       "4             6    0.760554\n",
       "5             7    0.758797\n",
       "6             8    0.695908\n",
       "7             9    0.656742"
      ]
     },
     "execution_count": 15,
     "metadata": {},
     "output_type": "execute_result"
    }
   ],
   "source": [
    "silh_array = np.asanyarray(silh_val)\n",
    "silhouette = pd.DataFrame(list(zip(range(2, n_clusters),silh_array)),columns = ['K - Clusters', 'silhouette'])\n",
    "silhouette"
   ]
  },
  {
   "cell_type": "code",
   "execution_count": null,
   "metadata": {},
   "outputs": [],
   "source": [
    "from pyspark.ml.clustering import KMeans\n",
    "\n",
    "k = 3\n",
    "kmeans = KMeans().setK(k).setSeed(1).setMaxIter(50).setFeaturesCol(\"features\")\n",
    "model = kmeans.fit(rfm_final)\n",
    "predictions = model.transform(rfm_final)\n",
    "predictions = predictions.withColumnRenamed('id', 'CustomerID')\n",
    "predictions = predictions.withColumnRenamed('prediction', 'Cluster')\n",
    "predictions = predictions.select(['CustomerID', 'Cluster'])\n",
    "#print(model.computeCost(rfm_final), model.summary.trainingCost)"
   ]
  },
  {
   "cell_type": "code",
   "execution_count": null,
   "metadata": {},
   "outputs": [
    {
     "data": {
      "text/plain": [
       "[3245, 1080, 13]"
      ]
     },
     "execution_count": 17,
     "metadata": {},
     "output_type": "execute_result"
    }
   ],
   "source": [
    "model.summary.clusterSizes"
   ]
  },
  {
   "cell_type": "code",
   "execution_count": null,
   "metadata": {},
   "outputs": [
    {
     "data": {
      "text/plain": [
       "[array([0.40901917, 0.45065   , 0.22572632]),\n",
       " array([2.46783623, 0.12128882, 0.07080707]),\n",
       " array([ 0.03999509, 11.21273965, 14.02993403])]"
      ]
     },
     "execution_count": 18,
     "metadata": {},
     "output_type": "execute_result"
    }
   ],
   "source": [
    "model.clusterCenters()"
   ]
  },
  {
   "cell_type": "code",
   "execution_count": 23,
   "metadata": {},
   "outputs": [
    {
     "name": "stdout",
     "output_type": "stream",
     "text": [
      "+----------+---------+---------+--------------------+--------+----------------+---------+--------------+----------+----------+-------+\n",
      "|CustomerID|InvoiceNo|StockCode|         Description|Quantity|     InvoiceDate|UnitPrice|       Country|      Date|TotalPrice|Cluster|\n",
      "+----------+---------+---------+--------------------+--------+----------------+---------+--------------+----------+----------+-------+\n",
      "|     12940|   566488|    22191|IVORY DINER WALL ...|       2| 9/13/2011 10:16|      8.5|United Kingdom|2011-09-13|      17.0|      0|\n",
      "|     12940|   566488|    22423|REGENCY CAKESTAND...|       4| 9/13/2011 10:16|    12.75|United Kingdom|2011-09-13|      51.0|      0|\n",
      "|     12940|   566488|    23173|REGENCY TEAPOT RO...|       2| 9/13/2011 10:16|     9.95|United Kingdom|2011-09-13|      19.9|      0|\n",
      "|     12940|   566488|    23174|REGENCY SUGAR BOW...|       4| 9/13/2011 10:16|     4.15|United Kingdom|2011-09-13|      16.6|      0|\n",
      "|     12940|   566488|    23175|REGENCY MILK JUG ...|       4| 9/13/2011 10:16|     3.25|United Kingdom|2011-09-13|      13.0|      0|\n",
      "|     12940|   566488|    23170|REGENCY TEA PLATE...|      12| 9/13/2011 10:16|     1.65|United Kingdom|2011-09-13|      19.8|      0|\n",
      "|     12940|   566488|    23245|SET OF 3 REGENCY ...|       4| 9/13/2011 10:16|     4.95|United Kingdom|2011-09-13|      19.8|      0|\n",
      "|     12940|   566488|    22189|CREAM HEART CARD ...|       4| 9/13/2011 10:16|     3.95|United Kingdom|2011-09-13|      15.8|      0|\n",
      "|     12940|   566488|    23133|LARGE IVORY HEART...|       2| 9/13/2011 10:16|     8.25|United Kingdom|2011-09-13|      16.5|      0|\n",
      "|     12940|   566488|    85066|CREAM SWEETHEART ...|       2| 9/13/2011 10:16|    12.75|United Kingdom|2011-09-13|      25.5|      0|\n",
      "|     12940|   566488|    84879|ASSORTED COLOUR B...|       8| 9/13/2011 10:16|     1.69|United Kingdom|2011-09-13|     13.52|      0|\n",
      "|     12940|   566488|    22767|TRIPLE PHOTO FRAM...|       2| 9/13/2011 10:16|     9.95|United Kingdom|2011-09-13|      19.9|      0|\n",
      "|     12940|   566488|    48187| DOORMAT NEW ENGLAND|       2| 9/13/2011 10:16|     7.95|United Kingdom|2011-09-13|      15.9|      0|\n",
      "|     12940|   566488|   85123A|WHITE HANGING HEA...|       6| 9/13/2011 10:16|     2.95|United Kingdom|2011-09-13|      17.7|      0|\n",
      "|     12940|   566488|    22600|CHRISTMAS RETROSP...|      12| 9/13/2011 10:16|     0.85|United Kingdom|2011-09-13| 10.200001|      0|\n",
      "|     12940|   566488|    22602|RETROSPOT WOODEN ...|      12| 9/13/2011 10:16|     0.85|United Kingdom|2011-09-13| 10.200001|      0|\n",
      "|     12940|   566488|    47566|       PARTY BUNTING|       4| 9/13/2011 10:16|     4.95|United Kingdom|2011-09-13|      19.8|      0|\n",
      "|     12940|   566488|    23311|VINTAGE CHRISTMAS...|       6| 9/13/2011 10:16|     2.55|United Kingdom|2011-09-13| 15.299999|      0|\n",
      "|     12940|   566488|    82484|WOOD BLACK BOARD ...|       3| 9/13/2011 10:16|     7.95|United Kingdom|2011-09-13| 23.849998|      0|\n",
      "|     12940|   571270|    23131|MISTLETOE HEART W...|       2|10/16/2011 12:09|     4.15|United Kingdom|2011-10-16|       8.3|      0|\n",
      "+----------+---------+---------+--------------------+--------+----------------+---------+--------------+----------+----------+-------+\n",
      "only showing top 20 rows\n",
      "\n"
     ]
    }
   ],
   "source": [
    "df_cluster = df.join(predictions, on=['CustomerID'], how='inner')\n",
    "#df_cluster.show(df_cluster.count())\n",
    "df_cluster.show()"
   ]
  },
  {
   "cell_type": "code",
   "execution_count": null,
   "metadata": {},
   "outputs": [],
   "source": []
  },
  {
   "cell_type": "code",
   "execution_count": 25,
   "metadata": {},
   "outputs": [],
   "source": [
    "df_cluster.write.csv('user_ecommerce-data.csv', header=True)"
   ]
  },
  {
   "cell_type": "code",
   "execution_count": null,
   "metadata": {},
   "outputs": [],
   "source": [
    "#predictions.write.csv('customer_segmentation.csv', header=True)"
   ]
  },
  {
   "cell_type": "code",
   "execution_count": null,
   "metadata": {},
   "outputs": [],
   "source": [
    "#output = sqlContext.read.csv('customer_segmentation.csv', header=True)\n",
    "#output.show(output.count())"
   ]
  },
  {
   "cell_type": "code",
   "execution_count": null,
   "metadata": {},
   "outputs": [],
   "source": []
  }
 ],
 "metadata": {
  "kernelspec": {
   "display_name": "PySpark",
   "language": "python",
   "name": "pyspark"
  },
  "language_info": {
   "codemirror_mode": {
    "name": "ipython",
    "version": 3
   },
   "file_extension": ".py",
   "mimetype": "text/x-python",
   "name": "python",
   "nbconvert_exporter": "python",
   "pygments_lexer": "ipython3",
   "version": "3.7.4"
  }
 },
 "nbformat": 4,
 "nbformat_minor": 4
}