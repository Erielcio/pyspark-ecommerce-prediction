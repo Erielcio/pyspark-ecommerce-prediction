{
 "cells": [
  {
   "cell_type": "code",
   "execution_count": 1,
   "metadata": {},
   "outputs": [],
   "source": [
    "from pyspark import SparkContext\n",
    "from pyspark.sql import SQLContext"
   ]
  },
  {
   "cell_type": "code",
   "execution_count": 2,
   "metadata": {},
   "outputs": [],
   "source": [
    "sc = SparkContext()\n",
    "sqlContext = SQLContext(sc)"
   ]
  },
  {
   "cell_type": "code",
   "execution_count": 28,
   "metadata": {},
   "outputs": [],
   "source": [
    "df = sqlContext.read.csv('d_small_ecommerce-data.csv', header=True)"
   ]
  },
  {
   "cell_type": "code",
   "execution_count": 29,
   "metadata": {},
   "outputs": [
    {
     "name": "stdout",
     "output_type": "stream",
     "text": [
      "+---------+---------+--------------------+--------+-------------------+---------+----------+--------------+\n",
      "|InvoiceNo|StockCode|         Description|Quantity|        InvoiceDate|UnitPrice|CustomerID|       Country|\n",
      "+---------+---------+--------------------+--------+-------------------+---------+----------+--------------+\n",
      "|   536365|   85123A|WHITE HANGING HEA...|       6|2010-12-01 08:26:00|     2.55|   17850.0|United Kingdom|\n",
      "|   536365|    71053| WHITE METAL LANTERN|       6|2010-12-01 08:26:00|     3.39|   17850.0|United Kingdom|\n",
      "|   536365|   84406B|CREAM CUPID HEART...|       8|2010-12-01 08:26:00|     2.75|   17850.0|United Kingdom|\n",
      "|   536365|   84029G|KNITTED UNION FLA...|       6|2010-12-01 08:26:00|     3.39|   17850.0|United Kingdom|\n",
      "|   536365|   84029E|RED WOOLLY HOTTIE...|       6|2010-12-01 08:26:00|     3.39|   17850.0|United Kingdom|\n",
      "|   539725|    22988|   SOLDIERS EGG CUP |       6|2010-12-21 13:58:00|     1.25|   17211.0|United Kingdom|\n",
      "|   539725|    84947|ANTIQUE SILVER TE...|       6|2010-12-21 13:58:00|     1.25|   17211.0|United Kingdom|\n",
      "|   539725|    22154|ANGEL DECORATION ...|      12|2010-12-21 13:58:00|     0.42|   17211.0|United Kingdom|\n",
      "|   539725|    21818|GLITTER CHRISTMAS...|      12|2010-12-21 13:58:00|     0.85|   17211.0|United Kingdom|\n",
      "|   539725|    48138|  DOORMAT UNION FLAG|       1|2010-12-21 13:58:00|     7.95|   17211.0|United Kingdom|\n",
      "|   539725|    48187| DOORMAT NEW ENGLAND|       1|2010-12-21 13:58:00|     7.95|   17211.0|United Kingdom|\n",
      "|   539725|    48188|DOORMAT WELCOME P...|       1|2010-12-21 13:58:00|     7.95|   17211.0|United Kingdom|\n",
      "|  C539726|    22791|T-LIGHT GLASS FLU...|     -10|2010-12-21 14:24:00|     1.25|   17007.0|United Kingdom|\n",
      "|   539727|    22933|BAKING MOULD EAST...|       6|2010-12-21 14:26:00|     2.95|   12678.0|        France|\n",
      "|   539727|    22934|BAKING MOULD EAST...|       6|2010-12-21 14:26:00|     2.95|   12678.0|        France|\n",
      "|   539727|    22558|CLOTHES PEGS RETR...|      12|2010-12-21 14:26:00|     1.49|   12678.0|        France|\n",
      "|   539727|     POST|             POSTAGE|       1|2010-12-21 14:26:00|     18.0|   12678.0|        France|\n",
      "|   539728|    22693|GROW A FLYTRAP OR...|      24|2010-12-21 14:26:00|     1.25|   16270.0|United Kingdom|\n",
      "|   539728|    22444|GROW YOUR OWN PLA...|      24|2010-12-21 14:26:00|     1.25|   16270.0|United Kingdom|\n",
      "|   539728|    21917|SET 12 KIDS  WHIT...|      24|2010-12-21 14:26:00|     0.42|   16270.0|United Kingdom|\n",
      "+---------+---------+--------------------+--------+-------------------+---------+----------+--------------+\n",
      "only showing top 20 rows\n",
      "\n"
     ]
    }
   ],
   "source": [
    "df.show()"
   ]
  },
  {
   "cell_type": "code",
   "execution_count": 5,
   "metadata": {},
   "outputs": [
    {
     "data": {
      "text/plain": [
       "[('InvoiceNo', 'string'),\n",
       " ('StockCode', 'string'),\n",
       " ('Description', 'string'),\n",
       " ('Quantity', 'string'),\n",
       " ('InvoiceDate', 'string'),\n",
       " ('UnitPrice', 'string'),\n",
       " ('CustomerID', 'string'),\n",
       " ('Country', 'string')]"
      ]
     },
     "execution_count": 5,
     "metadata": {},
     "output_type": "execute_result"
    }
   ],
   "source": [
    "df.dtypes"
   ]
  },
  {
   "cell_type": "code",
   "execution_count": 6,
   "metadata": {},
   "outputs": [],
   "source": [
    "df = df.drop_duplicates(['CustomerID'])"
   ]
  },
  {
   "cell_type": "code",
   "execution_count": 7,
   "metadata": {},
   "outputs": [],
   "source": [
    "# df.dropna(subset=['Description']).show()\n",
    "df = df.na.drop()"
   ]
  },
  {
   "cell_type": "code",
   "execution_count": 30,
   "metadata": {},
   "outputs": [],
   "source": [
    "from pyspark.ml.feature import Bucketizer\n",
    "\n",
    "df = df.withColumn('label', df['Quantity'] * df['UnitPrice'])\n",
    "\n",
    "df = df.filter((df['Quantity'] > 0) & (df['UnitPrice'] > 0))\n",
    "df = df.filter((df['label'] < 25000) & (df['UnitPrice'] < 15))\n",
    "\n",
    "df = df.withColumn(\"Quantity\", df[\"Quantity\"].cast('int'))\n",
    "df = df.withColumn(\"UnitPrice\", df[\"UnitPrice\"].cast('float'))\n",
    "\n",
    "bucketizer = Bucketizer(splits=[ 0, 2, 5, 8, 11, 14, 15, 5000], inputCol=\"Quantity\", outputCol=\"QuantityRange\")\n",
    "df = bucketizer.setHandleInvalid(\"keep\").transform(df)\n",
    "\n",
    "bucketizer = Bucketizer(splits=[ 0, 1, 2, 3, 4, 20], inputCol=\"UnitPrice\", outputCol=\"PriceRange\")\n",
    "df = bucketizer.setHandleInvalid(\"keep\").transform(df)"
   ]
  },
  {
   "cell_type": "code",
   "execution_count": 31,
   "metadata": {},
   "outputs": [],
   "source": [
    "from pyspark.ml.feature import QuantileDiscretizer\n",
    "from pyspark.sql.functions import month\n",
    "\n",
    "df = df.withColumn('Month', month(df['InvoiceDate']))\n",
    "\n",
    "discretizer = QuantileDiscretizer(numBuckets=3, inputCol=\"Month\", outputCol=\"DateRange\")\n",
    "\n",
    "result = discretizer.fit(df).transform(df)"
   ]
  },
  {
   "cell_type": "code",
   "execution_count": 32,
   "metadata": {},
   "outputs": [],
   "source": [
    "from pyspark.ml.feature import StringIndexer\n",
    "\n",
    "si = StringIndexer(inputCol='StockCode', outputCol='StockCodeIndex')\n",
    "df = si.fit(df).transform(df)\n",
    "\n",
    "si = StringIndexer(inputCol='Country', outputCol='CountryIndex')\n",
    "df = si.fit(df).transform(df)"
   ]
  },
  {
   "cell_type": "code",
   "execution_count": 33,
   "metadata": {},
   "outputs": [],
   "source": [
    "from pyspark.ml.feature import VectorAssembler\n",
    "\n",
    "assembler = VectorAssembler(\n",
    "    inputCols=['Quantity', 'UnitPrice', 'QuantityRange', 'PriceRange', 'Month', 'CountryIndex', 'StockCodeIndex'],\n",
    "    outputCol=\"features\")\n",
    "\n",
    "df = assembler.transform(df)"
   ]
  },
  {
   "cell_type": "code",
   "execution_count": 34,
   "metadata": {},
   "outputs": [
    {
     "name": "stdout",
     "output_type": "stream",
     "text": [
      "+--------------------+------------------+\n",
      "|            features|             label|\n",
      "+--------------------+------------------+\n",
      "|[6.0,2.5499999523...|15.299999999999999|\n",
      "|[6.0,3.3900001049...|             20.34|\n",
      "|[8.0,2.75,3.0,2.0...|              22.0|\n",
      "|[6.0,3.3900001049...|             20.34|\n",
      "|[6.0,3.3900001049...|             20.34|\n",
      "|[6.0,1.25,2.0,1.0...|               7.5|\n",
      "|[6.0,1.25,2.0,1.0...|               7.5|\n",
      "|[1.0,7.9499998092...|              7.95|\n",
      "|[1.0,7.9499998092...|              7.95|\n",
      "|[1.0,7.9499998092...|              7.95|\n",
      "|[6.0,2.9500000476...|17.700000000000003|\n",
      "|[6.0,2.9500000476...|17.700000000000003|\n",
      "|[12.0,1.490000009...|             17.88|\n",
      "|[24.0,1.25,6.0,1....|              30.0|\n",
      "|[24.0,1.25,6.0,1....|              30.0|\n",
      "|[2.0,9.9499998092...|              19.9|\n",
      "|[4.0,3.75,1.0,3.0...|              15.0|\n",
      "|[8.0,1.9500000476...|              15.6|\n",
      "|[12.0,1.950000047...|              23.4|\n",
      "|[4.0,4.1500000953...|              16.6|\n",
      "+--------------------+------------------+\n",
      "only showing top 20 rows\n",
      "\n"
     ]
    }
   ],
   "source": [
    "df_fr = df.select(['features', 'label'])\n",
    "df_fr.show()"
   ]
  },
  {
   "cell_type": "code",
   "execution_count": 35,
   "metadata": {},
   "outputs": [],
   "source": [
    "train, test = df_fr.randomSplit([0.8, 0.2], seed=12345)"
   ]
  },
  {
   "cell_type": "code",
   "execution_count": 36,
   "metadata": {},
   "outputs": [
    {
     "name": "stdout",
     "output_type": "stream",
     "text": [
      "+--------------------+------------------+\n",
      "|            features|             label|\n",
      "+--------------------+------------------+\n",
      "|[1.0,7.9499998092...|              7.95|\n",
      "|[1.0,7.9499998092...|              7.95|\n",
      "|[1.0,7.9499998092...|              7.95|\n",
      "|[2.0,9.9499998092...|              19.9|\n",
      "|[3.0,4.9499998092...|14.850000000000001|\n",
      "|[4.0,3.75,1.0,3.0...|              15.0|\n",
      "|[4.0,4.1500000953...|              16.6|\n",
      "|[4.0,4.1500000953...|              16.6|\n",
      "|[6.0,1.25,2.0,1.0...|               7.5|\n",
      "|[6.0,1.25,2.0,1.0...|               7.5|\n",
      "|[6.0,2.0999999046...|12.600000000000001|\n",
      "|[6.0,2.5499999523...|15.299999999999999|\n",
      "|[6.0,2.9500000476...|17.700000000000003|\n",
      "|[6.0,2.9500000476...|17.700000000000003|\n",
      "|[6.0,3.3900001049...|             20.34|\n",
      "|[6.0,3.3900001049...|             20.34|\n",
      "|[6.0,3.3900001049...|             20.34|\n",
      "|[8.0,1.9500000476...|              15.6|\n",
      "|[8.0,2.75,3.0,2.0...|              22.0|\n",
      "|[12.0,1.490000009...|             17.88|\n",
      "+--------------------+------------------+\n",
      "only showing top 20 rows\n",
      "\n"
     ]
    }
   ],
   "source": [
    "train.show()"
   ]
  },
  {
   "cell_type": "code",
   "execution_count": 37,
   "metadata": {
    "scrolled": true
   },
   "outputs": [
    {
     "name": "stdout",
     "output_type": "stream",
     "text": [
      "+--------------------+-----+\n",
      "|            features|label|\n",
      "+--------------------+-----+\n",
      "|[4.0,4.1500000953...| 16.6|\n",
      "+--------------------+-----+\n",
      "\n"
     ]
    }
   ],
   "source": [
    "test.show()"
   ]
  },
  {
   "cell_type": "code",
   "execution_count": 38,
   "metadata": {},
   "outputs": [],
   "source": [
    "from pyspark.ml.tuning import CrossValidator, ParamGridBuilder\n",
    "from pyspark.ml.evaluation import RegressionEvaluator\n",
    "from pyspark.ml.regression import LinearRegression\n",
    "\n",
    "lr = LinearRegression(maxIter=10, regParam=0.3, elasticNetParam=0.8)\n",
    "paramGrid = ParamGridBuilder().addGrid(lr.maxIter, [5, 10]).build()\n",
    "\n",
    "crossval = CrossValidator(estimator=lr,\n",
    "                          estimatorParamMaps=paramGrid,\n",
    "                          evaluator=RegressionEvaluator(),\n",
    "                          numFolds=2)\n",
    "\n",
    "cvModel = crossval.fit(train)"
   ]
  },
  {
   "cell_type": "code",
   "execution_count": 39,
   "metadata": {},
   "outputs": [
    {
     "name": "stdout",
     "output_type": "stream",
     "text": [
      "Row(features=DenseVector([4.0, 4.15, 1.0, 4.0, 12.0, 1.0, 12.0]), label=16.6, prediction=16.31566984210318)\n"
     ]
    }
   ],
   "source": [
    "prediction = cvModel.transform(test)\n",
    "#selected = prediction.select(\"id\", \"text\", \"probability\", \"prediction\")\n",
    "for row in prediction.collect():\n",
    "    print(row)"
   ]
  },
  {
   "cell_type": "code",
   "execution_count": null,
   "metadata": {},
   "outputs": [],
   "source": []
  }
 ],
 "metadata": {
  "kernelspec": {
   "display_name": "Python 3",
   "language": "python",
   "name": "python3"
  },
  "language_info": {
   "codemirror_mode": {
    "name": "ipython",
    "version": 3
   },
   "file_extension": ".py",
   "mimetype": "text/x-python",
   "name": "python",
   "nbconvert_exporter": "python",
   "pygments_lexer": "ipython3",
   "version": "3.8.6"
  }
 },
 "nbformat": 4,
 "nbformat_minor": 4
}
